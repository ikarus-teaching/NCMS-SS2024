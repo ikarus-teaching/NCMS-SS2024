{
 "cells": [
  {
   "attachments": {},
   "cell_type": "markdown",
   "metadata": {},
   "source": [
    "# Welcome to Ikarus"
   ]
  },
  {
   "cell_type": "markdown",
   "metadata": {},
   "source": [
    "<p style=\"text-align: justify\">\n",
    "<a href=\"https://ikarus-project.github.io/dev/\">Ikarus</a> is a project developed by the <strong>Institute for Structural Mechanics, University of Stuttgart</strong>.\n",
    "<img src=\"Images/IkarusLogo.png\" width=300 align=\"right\"/>\n",
    "It strives to develop an easy-to-read and easy-to-use framework to perform finite element analysis.\n",
    "It acts as a front-end code that utilizes several modules from <a href=\"https://dune-project.org/\">DUNE</a>\n",
    "and has some other dependencies.\n",
    "Ikarus endeavors to not <em>reinvent the wheel</em>\n",
    "but to just provide a generic interface that makes use of the existing modules, resulting in a more expressive,\n",
    "modular library to solve partial differential equations.\n",
    "The main idea is to provide users with a platform to rapidly prototype their ideas,\n",
    "thereby enabling researchers across the world to quickly test their various theories.\n",
    "One of the major principles that we follow is <em>\"take what you need,\"</em>\n",
    "where the users can pick different functionalities as per their requirements to try out their own examples.\n",
    "We also provide certain <a href=\"https://github.com/ikarus-project/ikarus-examples/tree/main\">examples</a> that can help a user get familiar with Ikarus.\n",
    "Ikarus itself is written in C++, but it also comes with <a href=\"https://pypi.org/project/pyikarus/\">Python bindings</a>,\n",
    "which can then aid in combining the functionalities of Ikarus with different Python packages.\n",
    "It uses C++ template (meta) programming to achieve a general and easy-to-extend library.\n",
    "The idea of interface segregation between a grid space and an ansatz space from DUNE is heavily exploited here.\n",
    "Some of the features that we provide are\n",
    "\n",
    "- Element library (linear elastic, nonlinear elastic, Kirchhoff-Love Shell)\n",
    "- Material library (St. Venant-Kirchhoff, Neo-Hookean)\n",
    "- Nonlinear Solvers (Newton-Raphson Method, Trust region Method)\n",
    "- Assemblers for sparse and dense matrices\n",
    "- Control routines (load control, displacement control, arc-length control)\n",
    "- Handle Dirichlet boundary conditions\n",
    "- Observer patterns to log user-desired information as an output\n",
    "</p>"
   ]
  },
  {
   "cell_type": "markdown",
   "metadata": {},
   "source": [
    "## Modules and Libraries\n",
    "<img src=\"Images/Modules.png\" width=600 align=\"center\"/>"
   ]
  }
 ],
 "metadata": {
  "kernelspec": {
   "display_name": "dune-env",
   "language": "python",
   "name": "python3"
  },
  "language_info": {
   "codemirror_mode": {
    "name": "ipython",
    "version": 3
   },
   "file_extension": ".py",
   "mimetype": "text/x-python",
   "name": "python",
   "nbconvert_exporter": "python",
   "pygments_lexer": "ipython3",
   "version": "3.11.2"
  },
  "orig_nbformat": 4
 },
 "nbformat": 4,
 "nbformat_minor": 2
}
