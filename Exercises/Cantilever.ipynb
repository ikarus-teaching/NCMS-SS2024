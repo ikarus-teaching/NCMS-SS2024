{
 "cells": [
  {
   "cell_type": "markdown",
   "metadata": {},
   "source": [
    "<img src=\"../Images/UniLogo.png\" height=50 align=\"left\"/> <img src=\"../Images/ibbLogo.png\" height=50 align=\"right\"/>"
   ]
  },
  {
   "cell_type": "markdown",
   "metadata": {},
   "source": [
    "# Non-linear Computational Mechanics of Structures\n",
    "## Exercise 11 - Summer term 2024"
   ]
  },
  {
   "cell_type": "markdown",
   "metadata": {},
   "source": [
    "### Cantilever subjected to End Shear Force\n",
    "The problem is adopted from Sze et al. (2004). Refer task sheet for further details on the problem."
   ]
  },
  {
   "attachments": {},
   "cell_type": "markdown",
   "metadata": {},
   "source": [
    "#### Import all packages\n",
    "The first step is to import the necessary packages. From `ikarus`, we import `finite_elements`, which contains the Python bindings for the different finite elements in Ikarus; `assembler` to assemble different local element quantities to global quantities (available both in sparse and dense formats for matrices); and `utils` that contain certain utility functions, for example, to apply Dirichlet boundary conditions. Furthermore, from `dune.vtk`, `vtkUnstructuredGridWriter` is imported to write the results in a `*.vtu` file that can then be examined using ParaView. Since the finite elements are according to the Kirchhoff-Love shell theory that requires $C^1$-continuity between elements, we will use NURBS as basis functions obtained from `dune.iga.bases`. Finally, there are some helper functions implemented in `helperfunctions.py` that are also imported."
   ]
  },
  {
   "cell_type": "code",
   "execution_count": 1,
   "metadata": {},
   "outputs": [],
   "source": [
    "import sys\n",
    "\n",
    "sys.path.append(\"../\")\n",
    "\n",
    "%matplotlib inline\n",
    "\n",
    "from helperfunctions import (\n",
    "    globalBasis,\n",
    "    cantileverBeam,\n",
    "    cantileverBeamRef,\n",
    "    loadDisplacement,\n",
    ")\n",
    "\n",
    "import ikarus as iks\n",
    "from ikarus import finite_elements, assembler, utils\n",
    "\n",
    "from dune.vtk import vtkUnstructuredGridWriter\n",
    "\n",
    "import numpy as np\n",
    "import scipy as sp\n",
    "import pyvista as pv\n",
    "\n",
    "from dune.iga.basis import Power, Nurbs"
   ]
  },
  {
   "cell_type": "markdown",
   "metadata": {},
   "source": [
    "We next define the input parameters based on the problem description."
   ]
  },
  {
   "cell_type": "code",
   "execution_count": 2,
   "metadata": {},
   "outputs": [],
   "source": [
    "Emod = 1.2e6  # Young's Modulus\n",
    "nu = 0.0  # Poisson's Ratio\n",
    "L = 10.0  # Length of the beam\n",
    "b = 1.0  # Width of the beam\n",
    "h = 0.1  # Thickness of the beam\n",
    "P0 = (Emod * b * h**3 / 12.0) / L**2  # P0 = 1\n",
    "Pmax = 4.0 * P0  # Maximum applied traction load\n",
    "filename = \"cantilever\"  # Filename for the *.vtu file to be saved"
   ]
  },
  {
   "attachments": {},
   "cell_type": "markdown",
   "metadata": {},
   "source": [
    "#### Grid and basis functions\n",
    "The `grid` corresponding to the cantilever beam problem can be obtained via the helper function `cantileverBeam`, which takes in as arguments the length and width of the beam and also the number of refinement steps to be performed along the length. We then get the `NURBS` basis that represents the underlying `grid`. This is then wrapped with a `Power` basis, denoting that all three degrees of freedom at a node are approximated using the same NURBS functions. It is important to note that the `cantileverBeam` function assumes that the number of elements in the width direction is one and the polynomial order of the underlying basis functions is 2."
   ]
  },
  {
   "cell_type": "code",
   "execution_count": 3,
   "metadata": {},
   "outputs": [],
   "source": [
    "# TODO: Define grid and basis\n",
    "\n",
    "flatBasis = basis.flat()  # FlatLexicographic\n",
    "order = 2  # fixed\n",
    "neleX = grid.size(0)  # Total number of elements\n",
    "neleY = 1"
   ]
  },
  {
   "cell_type": "code",
   "execution_count": null,
   "metadata": {},
   "outputs": [],
   "source": [
    "nCPX = neleX + order  # Number of control points in x-direction\n",
    "nCPY = neleY + order  # Number of control points in y-direction"
   ]
  },
  {
   "cell_type": "code",
   "execution_count": null,
   "metadata": {},
   "outputs": [],
   "source": [
    "print(\"We have {} dofs.\".format(len(flatBasis)))\n",
    "print(\"We have {} vertices.\".format(grid.size(2)))\n",
    "print(\"We have {} elements.\".format(grid.size(0)))"
   ]
  },
  {
   "attachments": {},
   "cell_type": "markdown",
   "metadata": {},
   "source": [
    "#### Traction load\n",
    "For a given traction load $\\hat{\\boldsymbol{t}}$ at the boundary $\\Gamma_{\\sigma,e}$ of an element $e$, the vector of consistent nodal forces can be computed via\n",
    "$$\n",
    "\\boldsymbol{f_{\\text{ext}}} = \\int_{\\Gamma_{\\sigma,e}}{\\boldsymbol{\\text{N}}^{\\text{T}} \\,\\, \\hat{\\boldsymbol{t}}}\\,\\,\\text{d}\\Gamma\n",
    "$$\n",
    "For the given problem, $\\hat{\\boldsymbol{t}} = \\left[0,0,\\lambda P_{\\text{max}}\\right]^{\\text{T}}$.\n",
    "This traction load $\\hat{\\boldsymbol{t}}$ is defined via the function `nL`, while the boundary $\\Gamma_{\\sigma,e}$ is defined using a `boundaryPatch`. \n",
    "These can then be used to defined the `neumannLoad`."
   ]
  },
  {
   "cell_type": "code",
   "execution_count": null,
   "metadata": {},
   "outputs": [],
   "source": [
    "neumannVertices = np.zeros(grid.size(2), dtype=bool)\n",
    "\n",
    "# TODO: Define nL, loadTopEdgePredicate that returns true if x = L, boundaryPatch, and neumannLoad\n",
    "# TODO: Populate neumannVertices based on loadTopEdgePredicate"
   ]
  },
  {
   "attachments": {},
   "cell_type": "markdown",
   "metadata": {},
   "source": [
    "#### Vector of finite elements\n",
    "The vector of finite elements `fes` with the skills `kirchhoffLoveShell` and `neumannLoad` is created next."
   ]
  },
  {
   "cell_type": "code",
   "execution_count": null,
   "metadata": {},
   "outputs": [],
   "source": [
    "# TODO: Define a skill klShell representing the Kirchhoff-Love-type shell element\n",
    "\n",
    "fes = []\n",
    "for ele in grid.elements:\n",
    "    # TODO: Populate the finite element container (fes)\n",
    "\n",
    "    fes[-1].bind(ele)"
   ]
  },
  {
   "attachments": {},
   "cell_type": "markdown",
   "metadata": {},
   "source": [
    "#### Dirichlet boundary conditions\n",
    "The left edge of the cantilever is expected to be clamped. In order to do this, we first fix the displacement degrees of freedom $u,v,w$ via the function `fixBoundaryDOFsUsingLocalViewAndIntersection` that takes in a functor describing the left edge called `fixLeftEdge`. Since there are no rotational degrees of freedom for Kirchhoff-Love-type shell finite elements, we also fix the displacement degrees of freedom at the control points that are immediately adjacent to the control points at $x=0$. This workaround works for such $C^1$-continuous NURBS basis functions directly. Furthermore, the global indices corresponding to these control points are obtained manually here, but a wrapper to have such functionality is one of the [open tasks](https://ikarus-project.github.io/dev/03_contribution/openTask/) of Ikarus."
   ]
  },
  {
   "cell_type": "code",
   "execution_count": null,
   "metadata": {},
   "outputs": [],
   "source": [
    "dirichletBC = iks.dirichletValues(flatBasis)\n",
    "\n",
    "\n",
    "def fixLeftEdge(vec, localIndex, localView, intersection):\n",
    "    for j in range(nCPY):\n",
    "        for i in range(nCPY):\n",
    "            idx = (nCPX) * (nCPY) - 1\n",
    "            vec[(nCPX) * 1 * i + j * idx + j + 1] = (\n",
    "                True  # workaround to have a clamped boundary condition for the Kirchhoff-Love Shell\n",
    "            )\n",
    "    if intersection.geometry.center[0] < 1e-8:\n",
    "        vec[localView.index(localIndex)] = True\n",
    "\n",
    "\n",
    "dirichletBC.fixBoundaryDOFsUsingLocalViewAndIntersection(fixLeftEdge)"
   ]
  },
  {
   "attachments": {},
   "cell_type": "markdown",
   "metadata": {},
   "source": [
    "#### Dense Assembler\n",
    "We pass the vector of finite elements and the object describing the Dirichlet boundary conditions to a dense flat assembler, which could then provide the global assembled quantities after considering the Dirichlet boundary conditions. For the problem at hand, the assembler is used to assemble the stiffness matrix and the residual vector."
   ]
  },
  {
   "cell_type": "code",
   "execution_count": null,
   "metadata": {},
   "outputs": [],
   "source": [
    "# TODO: Define a denseAssembler\n",
    "\n",
    "\n",
    "print(\"We fix {} dofs.\".format(len(flatBasis) - denseAssembler.reducedSize()))"
   ]
  },
  {
   "attachments": {},
   "cell_type": "markdown",
   "metadata": {},
   "source": [
    "#### Assembler and Post-processing Functions\n",
    "`gradAndhess` is defined here to obtain the assembled gradient (here, the residual) and hessian (here, the tangent stiffness matrix). It takes in the current displacement and the load factor as input arguments. `writeVTK` is a wrapper function to write the necessary `*.vtu` files. It takes a displacement state and an increment number that will be suffixed with the file name as arguments."
   ]
  },
  {
   "cell_type": "code",
   "execution_count": null,
   "metadata": {},
   "outputs": [],
   "source": [
    "def gradAndhess(disp, loadFactor):\n",
    "    req = fes[0].createRequirement()\n",
    "    req.insertParameter(iks.ValueWrapper(loadFactor))\n",
    "    req.insertGlobalSolution(disp)\n",
    "    # TODO: Define the gradient g and hessian h containing the assembled force and stiffness quantities\n",
    "\n",
    "    return g, h\n",
    "\n",
    "\n",
    "def writeVTK(disp, increment):\n",
    "    vtkWriter = vtkUnstructuredGridWriter(grid)\n",
    "    dispFunc = flatBasis.asFunction(disp)\n",
    "    vtkWriter.addPointData(dispFunc, name=\"displacement\")\n",
    "    vtkWriter.write(filename + str(increment))"
   ]
  },
  {
   "cell_type": "markdown",
   "metadata": {},
   "source": [
    "#### Newton-Raphson Method\n",
    "The Newton-Raphson method is implemented here that will be later used as a non-linear solver by the load control method."
   ]
  },
  {
   "cell_type": "code",
   "execution_count": null,
   "metadata": {},
   "outputs": [],
   "source": [
    "def NewtonRaphson(disp, loadfactor):\n",
    "    maxiter = 25\n",
    "    tol = 1e-8\n",
    "    success = False\n",
    "    for k in range(maxiter):\n",
    "        # TODO: Write the algorithm according to the Newton-Raphson method\n",
    "\n",
    "        print(\n",
    "            \"Iteration \",\n",
    "            k,\n",
    "            \"Residual Norm \",\n",
    "            r_norm,\n",
    "            \"Correction Norm \",\n",
    "            np.linalg.norm(deltad),\n",
    "            \"Rank of K \",\n",
    "            np.linalg.matrix_rank(K),\n",
    "        )\n",
    "        # TODO: Write a stopping criterion\n",
    "\n",
    "    return disp, k + 1, success"
   ]
  },
  {
   "attachments": {},
   "cell_type": "markdown",
   "metadata": {},
   "source": [
    "#### Load Control Method\n",
    "\n",
    "The load control method is used to solve the given problem. The number of increments is set to 50. This is then used to calculate the step size such that the simulation ends at $P=P_{\\text{max}}$. If the non-linear solver used converges, the `writeVTK` function is called, and the deformation can then be viewed via ParaView."
   ]
  },
  {
   "cell_type": "code",
   "execution_count": null,
   "metadata": {},
   "outputs": [],
   "source": [
    "num_increments = 50\n",
    "step_size = Pmax / (num_increments - 1)\n",
    "print(\"Step Size \", step_size)\n",
    "\n",
    "d = np.zeros(len(flatBasis))\n",
    "lambdaLoad = 0.0\n",
    "totalIterations = 0\n",
    "\n",
    "lf = np.zeros(num_increments)  # load factors\n",
    "ufe = np.zeros(\n",
    "    num_increments\n",
    ")  # absolute value of horizontal displacement (x-direction)\n",
    "wfe = np.zeros(num_increments)  # absolute value of vertical displacement (z-direction)\n",
    "\n",
    "for inc in range(num_increments):\n",
    "    print(\"Increment \", inc, \"Load Factor \", lambdaLoad)\n",
    "    result = NewtonRaphson(d, lambdaLoad)\n",
    "    d = result[0]  # displacement\n",
    "\n",
    "    # store results for post-processing\n",
    "    lf[inc] = lambdaLoad\n",
    "    uidx = (nCPX) * (nCPY) - 1\n",
    "    widx = (nCPX) * (nCPY) * 3 - 1\n",
    "    ufe[inc] = abs(d[uidx])\n",
    "    wfe[inc] = abs(d[widx])\n",
    "\n",
    "    # TODO: Define the predictor step for the next increment\n",
    "\n",
    "    totalIterations += result[1]  # Total iterations update\n",
    "    if result[2]:  # Check if the nonlinear solver converged\n",
    "        writeVTK(d, inc)\n",
    "    else:\n",
    "        print(\"NEWTON-RAPHSON METHOD FAILED TO CONVERGE !!!\")\n",
    "        break\n",
    "\n",
    "print(\"Total Iterations \", totalIterations)"
   ]
  },
  {
   "cell_type": "markdown",
   "metadata": {},
   "source": [
    "#### Load-displacement curve\n",
    "The reference solutions are adapted from **Table 2a** of *Sze et al. 2004*. These are then compared with the solution obtained here from Ikarus."
   ]
  },
  {
   "cell_type": "code",
   "execution_count": null,
   "metadata": {},
   "outputs": [],
   "source": [
    "# load reference solutions\n",
    "lfref, uref, wref = cantileverBeamRef(P0, Pmax)\n",
    "\n",
    "loadDisplacement(lfref, uref, wref, lf, ufe, wfe)"
   ]
  },
  {
   "cell_type": "markdown",
   "metadata": {},
   "source": [
    "#### Visualize deformed configuration via PyVista"
   ]
  },
  {
   "cell_type": "code",
   "execution_count": null,
   "metadata": {},
   "outputs": [],
   "source": [
    "meshUndeformed = pv.UnstructuredGrid(filename + str(0) + \".vtu\")\n",
    "meshDeformed = pv.UnstructuredGrid(filename + str(inc) + \".vtu\").warp_by_vector()\n",
    "plotter = pv.Plotter(off_screen=False)\n",
    "plotter.add_mesh(meshUndeformed, show_edges=True)\n",
    "plotter.add_mesh(meshDeformed, scalars=\"displacement\", component=2, show_edges=True)\n",
    "plotter.show()"
   ]
  }
 ],
 "metadata": {
  "kernelspec": {
   "display_name": "dune-env",
   "language": "python",
   "name": "python3"
  },
  "language_info": {
   "codemirror_mode": {
    "name": "ipython",
    "version": 3
   },
   "file_extension": ".py",
   "mimetype": "text/x-python",
   "name": "python",
   "nbconvert_exporter": "python",
   "pygments_lexer": "ipython3",
   "version": "3.11.2"
  },
  "orig_nbformat": 4
 },
 "nbformat": 4,
 "nbformat_minor": 2
}
